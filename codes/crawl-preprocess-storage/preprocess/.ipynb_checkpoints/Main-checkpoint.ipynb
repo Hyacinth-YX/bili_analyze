{
 "cells": [
  {
   "cell_type": "code",
   "execution_count": 1,
   "metadata": {
    "pycharm": {
     "is_executing": true
    }
   },
   "outputs": [
    {
     "name": "stdout",
     "output_type": "stream",
     "text": [
      "Exception reporting mode: Plain\n"
     ]
    }
   ],
   "source": [
    "# 导入常用包\n",
    "%xmode Plain\n",
    "%matplotlib inline\n",
    "import pandas as pd\n",
    "import pymysql\n",
    "import matplotlib.pyplot as plt\n",
    "from matplotlib.pylab import style\n",
    "style.use ('ggplot')\n",
    "plt.rcParams['font.sans-serif'] = ['Heiti TC']\n",
    "plt.rcParams['font.serif'] = ['Heiti TC']\n",
    "plt.rcParams['axes.unicode_minus'] = False"
   ]
  },
  {
   "cell_type": "code",
   "execution_count": 2,
   "metadata": {
    "pycharm": {
     "is_executing": true,
     "name": "#%%\n"
    }
   },
   "outputs": [],
   "source": [
    "# 设置从数据库获取表格的函数\n",
    "host = \"121.37.185.35\"\n",
    "port = 8306\n",
    "user = \"root\"\n",
    "password = \"root\"\n",
    "database = \"bilibili\"\n",
    "\n",
    "conn = pymysql.connect (\n",
    "    host=host,\n",
    "    user=user,\n",
    "    password=password,\n",
    "    port=port,\n",
    "    database=database\n",
    ")\n",
    "\n",
    "def get_table_content(table_name,index_col=None):\n",
    "    sql = f'select * from {table_name}'\n",
    "    try:\n",
    "        df = pd.read_sql (sql, con=conn,index_col=index_col)\n",
    "    except Exception as e:\n",
    "        print(e)\n",
    "        return False\n",
    "    return df"
   ]
  },
  {
   "cell_type": "code",
   "execution_count": 3,
   "metadata": {
    "pycharm": {
     "is_executing": true,
     "name": "#%%\n"
    }
   },
   "outputs": [],
   "source": [
    "# 获取所有表格数据\n",
    "vinfo = get_table_content(\"vinfo\",\"aid\")\n",
    "aid_hotword = get_table_content(\"aid_hotword\",\"aid\")\n",
    "aid_tag = get_table_content(\"aid_tag\")\n",
    "follower = get_table_content(\"follower\")\n",
    "hotword = get_table_content(\"hotword\")\n",
    "userinfo = get_table_content(\"userinfo\",\"uid\")\n",
    "vresult = get_table_content(\"vresult\")"
   ]
  },
  {
   "cell_type": "code",
   "execution_count": null,
   "metadata": {
    "pycharm": {
     "is_executing": true,
     "name": "#%%\n"
    }
   },
   "outputs": [],
   "source": [
    "sorted_vresult = vresult.sort_values(by = 'aid',ascending=True)\n",
    "current_aid = sorted_vresult['aid'][0]\n",
    "\n",
    "vresult_list = []\n",
    "tmpresult = pd.DataFrame(columns=vresult.columns)\n",
    "\n",
    "print(len(sorted_vresult))\n",
    "\n",
    "for i,row in sorted_vresult.iterrows():\n",
    "    if current_aid != row['aid'] or i == len(sorted_vresult):\n",
    "        current_aid = row['aid']\n",
    "        vresult_list.append(tmpresult)\n",
    "        tmpresult.drop(tmpresult.index,inplace=True)\n",
    "    else:\n",
    "        tmpresult.append(row)\n",
    "\n"
   ]
  },
  {
   "cell_type": "code",
   "execution_count": null,
   "metadata": {
    "pycharm": {
     "name": "#%%\n"
    }
   },
   "outputs": [],
   "source": [
    "\n",
    "print(vresult_list)"
   ]
  }
 ],
 "metadata": {
  "kernelspec": {
   "display_name": "Python 3",
   "language": "python",
   "name": "python3"
  },
  "language_info": {
   "codemirror_mode": {
    "name": "ipython",
    "version": 3
   },
   "file_extension": ".py",
   "mimetype": "text/x-python",
   "name": "python",
   "nbconvert_exporter": "python",
   "pygments_lexer": "ipython3",
   "version": "3.7.3"
  }
 },
 "nbformat": 4,
 "nbformat_minor": 1
}
