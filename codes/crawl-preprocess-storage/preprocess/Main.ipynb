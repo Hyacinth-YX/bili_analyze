{
 "cells": [
  {
   "cell_type": "code",
   "execution_count": null,
   "metadata": {},
   "outputs": [],
   "source": [
    "# 导入常用包\n",
    "%xmode Plain\n",
    "%matplotlib inline\n",
    "import pandas as pd\n",
    "import pymysql\n",
    "import matplotlib.pyplot as plt\n",
    "from matplotlib.pylab import style\n",
    "style.use ('ggplot')\n",
    "plt.rcParams['font.sans-serif'] = ['Heiti TC']\n",
    "plt.rcParams['font.serif'] = ['Heiti TC']\n",
    "plt.rcParams['axes.unicode_minus'] = False"
   ]
  },
  {
   "cell_type": "code",
   "execution_count": null,
   "metadata": {
    "pycharm": {
     "name": "#%%\n"
    }
   },
   "outputs": [],
   "source": [
    "# 设置从数据库获取表格的函数\n",
    "host = \"121.37.185.35\"\n",
    "port = 8306\n",
    "user = \"root\"\n",
    "password = \"root\"\n",
    "database = \"bilibili\"\n",
    "\n",
    "conn = pymysql.connect (\n",
    "    host=host,\n",
    "    user=user,\n",
    "    password=password,\n",
    "    port=port,\n",
    "    database=database\n",
    ")\n",
    "\n",
    "def get_table_content(table_name,index_col=None):\n",
    "    sql = f'select * from {table_name}'\n",
    "    try:\n",
    "        df = pd.read_sql (sql, con=conn,index_col=index_col)\n",
    "    except Exception as e:\n",
    "        print(e)\n",
    "        return False\n",
    "    return df"
   ]
  },
  {
   "cell_type": "code",
   "execution_count": null,
   "metadata": {
    "pycharm": {
     "name": "#%%\n"
    }
   },
   "outputs": [],
   "source": [
    "# 获取所有表格数据\n",
    "vinfo = get_table_content(\"vinfo\",\"aid\")\n",
    "aid_hotword = get_table_content(\"aid_hotword\",\"aid\")\n",
    "aid_tag = get_table_content(\"aid_tag\")\n",
    "follower = get_table_content(\"follower\")\n",
    "hotword = get_table_content(\"hotword\")\n",
    "userinfo = get_table_content(\"userinfo\",\"uid\")\n",
    "vresult = get_table_content(\"vresult\")"
   ]
  },
  {
   "cell_type": "code",
   "execution_count": null,
   "outputs": [],
   "source": [
    "vresult_list = {}\n",
    "tmpresult = pd.DataFrame(columns=vresult.columns)\n",
    "index = 1\n",
    "\n",
    "aids = vresult[\"aid\"].sort_values().drop_duplicates()\n",
    "for aid in aids:\n",
    "    vresult_list[aid] = vresult[vresult[\"aid\"].apply(lambda x:x == aid)]\n"
   ],
   "metadata": {
    "collapsed": false,
    "pycharm": {
     "name": "#%%\n"
    }
   }
  },
  {
   "cell_type": "code",
   "execution_count": null,
   "outputs": [],
   "source": [
    "vresult.iloc[:,1:-1]"
   ],
   "metadata": {
    "collapsed": false,
    "pycharm": {
     "name": "#%%\n"
    }
   }
  },
  {
   "cell_type": "code",
   "execution_count": 41,
   "outputs": [
    {
     "name": "stdout",
     "output_type": "stream",
     "text": [
      "总共结果记录视频条数：2816，其中有效记录超过5条的记录有1,其中最少条数20，最多条数20,总共信息记录有20\n"
     ]
    },
    {
     "name": "stderr",
     "output_type": "stream",
     "text": [
      "/Users/hyacinth/PycharmProjects/bili_analyze/lib/python3.7/site-packages/pandas/core/indexing.py:966: SettingWithCopyWarning: \n",
      "A value is trying to be set on a copy of a slice from a DataFrame.\n",
      "Try using .loc[row_indexer,col_indexer] = value instead\n",
      "\n",
      "See the caveats in the documentation: https://pandas.pydata.org/pandas-docs/stable/user_guide/indexing.html#returning-a-view-versus-a-copy\n",
      "  self.obj[item] = s\n"
     ]
    }
   ],
   "source": [
    "num = 0\n",
    "info_num = 0\n",
    "minimum = 9999\n",
    "maximum = 0\n",
    "formed_vresult_list = {} # 存储可以用于构建序列的信息\n",
    "for aid,ob in vresult_list.items():\n",
    "    if len(ob)>5:\n",
    "        num += 1\n",
    "        info_num += len(ob)\n",
    "        minimum = min(len(ob),minimum)\n",
    "        maximum = max(len(ob),maximum)\n",
    "        cre_time = vinfo.loc[aid][\"cre_time\"]\n",
    "        for i,row in ob.iterrows():\n",
    "            alive_day = row[\"timestamp\"] - cre_time\n",
    "            alive_day = alive_day.days\n",
    "            alive_weekday = row[\"timestamp\"].weekday()\n",
    "            cre_weekday = cre_time.weekday()\n",
    "            ob.loc[i,\"alive_day\"] = alive_day\n",
    "            ob.loc[i,\"alive_weekday\"] = alive_weekday\n",
    "            ob.loc[i,\"cre_weekday\"] = cre_weekday\n",
    "            ob.loc[i,\"cre_time\"] = cre_time\n",
    "        ob.index = ob[\"timestamp\"]\n",
    "        ob = ob.iloc[:,1:-1]\n",
    "        resample = ob.resample(\"6H\").mean()\n",
    "        break\n",
    "        formed_vresult_list[aid] = ob\n",
    "print(f\"总共结果记录视频条数：{len(vresult_list)}，其中有效记录超过5条的记录有{num},\"\n",
    "      f\"其中最少条数{minimum}，最多条数{maximum},总共信息记录有{info_num}\")"
   ],
   "metadata": {
    "collapsed": false,
    "pycharm": {
     "name": "#%%\n"
    }
   }
  },
  {
   "cell_type": "code",
   "execution_count": null,
   "outputs": [],
   "source": [
    "for i in vresult_list.values():\n",
    "    columns = i.columns\n",
    "    break\n",
    "merge_vresult = pd.DataFrame(index=range(info_num),columns=columns)\n",
    "i = 0\n",
    "for li in vresult_list.values():\n",
    "    for k,row in li.iterrows():\n",
    "        merge_vresult.iloc[i] = row\n",
    "        i += 1"
   ],
   "metadata": {
    "collapsed": false,
    "pycharm": {
     "name": "#%%\n"
    }
   }
  },
  {
   "cell_type": "code",
   "execution_count": null,
   "outputs": [],
   "source": [
    "merge_vresult.to_csv(\"../storage/vresult.csv\")"
   ],
   "metadata": {
    "collapsed": false,
    "pycharm": {
     "name": "#%%\n"
    }
   }
  }
 ],
 "metadata": {
  "kernelspec": {
   "display_name": "Python 3",
   "language": "python",
   "name": "python3"
  },
  "language_info": {
   "codemirror_mode": {
    "name": "ipython",
    "version": 3
   },
   "file_extension": ".py",
   "mimetype": "text/x-python",
   "name": "python",
   "nbconvert_exporter": "python",
   "pygments_lexer": "ipython3",
   "version": "3.7.3"
  }
 },
 "nbformat": 4,
 "nbformat_minor": 1
}