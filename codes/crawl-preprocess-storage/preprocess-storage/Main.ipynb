{
 "cells": [
  {
   "cell_type": "code",
   "execution_count": 19,
   "metadata": {
    "collapsed": true
   },
   "outputs": [],
   "source": [
    "# 设置从数据库获取表格的函数\n",
    "import pandas as pd\n",
    "import pymysql\n",
    "\n",
    "host = \"121.37.185.35\"\n",
    "port = 8306\n",
    "user = \"root\"\n",
    "password = \"root\"\n",
    "database = \"bilibili\"\n",
    "\n",
    "conn = pymysql.connect (\n",
    "    host=host,\n",
    "    user=user,\n",
    "    password=password,\n",
    "    port=port,\n",
    "    database=database\n",
    ")\n",
    "\n",
    "def get_table_content(table_name,index_col=None):\n",
    "    sql = f'select * from {table_name}'\n",
    "    try:\n",
    "        df = pd.read_sql (sql, con=conn,index_col=index_col)\n",
    "    except Exception as e:\n",
    "        print(e)\n",
    "        return False\n",
    "    return df"
   ]
  },
  {
   "cell_type": "code",
   "execution_count": 20,
   "metadata": {
    "pycharm": {
     "name": "#%%\n"
    }
   },
   "outputs": [],
   "source": [
    "# 获取所有表格数据\n",
    "vinfo = get_table_content(\"vinfo\",\"aid\")\n",
    "aid_hotword = get_table_content(\"aid_hotword\",\"aid\")\n",
    "aid_tag = get_table_content(\"aid_tag\")\n",
    "follower = get_table_content(\"follower\")\n",
    "hotword = get_table_content(\"hotword\")\n",
    "userinfo = get_table_content(\"userinfo\",\"uid\")\n",
    "vresult = get_table_content(\"vresult\")"
   ]
  },
  {
   "cell_type": "code",
   "execution_count": 17,
   "metadata": {
    "pycharm": {
     "name": "#%%\n"
    }
   },
   "outputs": [
    {
     "data": {
      "text/plain": "                uid  follower_num\ncount  3.683000e+03  3.683000e+03\nmean   1.261970e+08  1.189160e+05\nstd    1.722074e+08  5.715291e+05\nmin    1.531200e+04  0.000000e+00\n25%    5.173955e+06  8.500000e+01\n50%    2.455171e+07  2.647000e+03\n75%    2.483359e+08  3.188200e+04\nmax    6.033215e+08  8.423534e+06",
      "text/html": "<div>\n<style scoped>\n    .dataframe tbody tr th:only-of-type {\n        vertical-align: middle;\n    }\n\n    .dataframe tbody tr th {\n        vertical-align: top;\n    }\n\n    .dataframe thead th {\n        text-align: right;\n    }\n</style>\n<table border=\"1\" class=\"dataframe\">\n  <thead>\n    <tr style=\"text-align: right;\">\n      <th></th>\n      <th>uid</th>\n      <th>follower_num</th>\n    </tr>\n  </thead>\n  <tbody>\n    <tr>\n      <th>count</th>\n      <td>3.683000e+03</td>\n      <td>3.683000e+03</td>\n    </tr>\n    <tr>\n      <th>mean</th>\n      <td>1.261970e+08</td>\n      <td>1.189160e+05</td>\n    </tr>\n    <tr>\n      <th>std</th>\n      <td>1.722074e+08</td>\n      <td>5.715291e+05</td>\n    </tr>\n    <tr>\n      <th>min</th>\n      <td>1.531200e+04</td>\n      <td>0.000000e+00</td>\n    </tr>\n    <tr>\n      <th>25%</th>\n      <td>5.173955e+06</td>\n      <td>8.500000e+01</td>\n    </tr>\n    <tr>\n      <th>50%</th>\n      <td>2.455171e+07</td>\n      <td>2.647000e+03</td>\n    </tr>\n    <tr>\n      <th>75%</th>\n      <td>2.483359e+08</td>\n      <td>3.188200e+04</td>\n    </tr>\n    <tr>\n      <th>max</th>\n      <td>6.033215e+08</td>\n      <td>8.423534e+06</td>\n    </tr>\n  </tbody>\n</table>\n</div>"
     },
     "execution_count": 17,
     "metadata": {},
     "output_type": "execute_result"
    }
   ],
   "source": [
    "follower.describe()"
   ]
  },
  {
   "cell_type": "code",
   "execution_count": 18,
   "outputs": [
    {
     "data": {
      "text/plain": "                aid          view          reply          coin          like  \\\ncount  1.578800e+04  1.578800e+04   15788.000000  1.578800e+04  1.578800e+04   \nmean   4.911807e+08  3.099318e+05     875.061439  1.502981e+04  2.389325e+04   \nstd    2.803790e+08  1.105759e+06    7301.461953  7.114677e+04  8.358302e+04   \nmin    4.026690e+05  0.000000e+00       0.000000  0.000000e+00  0.000000e+00   \n25%    2.853171e+08  5.300000e+01       0.000000  0.000000e+00  3.000000e+00   \n50%    4.983964e+08  5.822500e+03      42.000000  5.000000e+01  3.470000e+02   \n75%    7.109981e+08  1.499690e+05     442.250000  3.584000e+03  1.196200e+04   \nmax    9.684996e+08  1.848762e+07  242911.000000  1.431774e+06  1.505144e+06   \n\n       dislike      favorite       danmaku  \ncount  15788.0  1.578800e+04  1.578800e+04  \nmean       0.0  1.315588e+04  3.475724e+03  \nstd        0.0  5.854551e+04  3.884344e+04  \nmin        0.0  0.000000e+00  0.000000e+00  \n25%        0.0  0.000000e+00  0.000000e+00  \n50%        0.0  1.445000e+02  2.600000e+01  \n75%        0.0  5.171250e+03  7.000000e+02  \nmax        0.0  1.008362e+06  1.282043e+06  ",
      "text/html": "<div>\n<style scoped>\n    .dataframe tbody tr th:only-of-type {\n        vertical-align: middle;\n    }\n\n    .dataframe tbody tr th {\n        vertical-align: top;\n    }\n\n    .dataframe thead th {\n        text-align: right;\n    }\n</style>\n<table border=\"1\" class=\"dataframe\">\n  <thead>\n    <tr style=\"text-align: right;\">\n      <th></th>\n      <th>aid</th>\n      <th>view</th>\n      <th>reply</th>\n      <th>coin</th>\n      <th>like</th>\n      <th>dislike</th>\n      <th>favorite</th>\n      <th>danmaku</th>\n    </tr>\n  </thead>\n  <tbody>\n    <tr>\n      <th>count</th>\n      <td>1.578800e+04</td>\n      <td>1.578800e+04</td>\n      <td>15788.000000</td>\n      <td>1.578800e+04</td>\n      <td>1.578800e+04</td>\n      <td>15788.0</td>\n      <td>1.578800e+04</td>\n      <td>1.578800e+04</td>\n    </tr>\n    <tr>\n      <th>mean</th>\n      <td>4.911807e+08</td>\n      <td>3.099318e+05</td>\n      <td>875.061439</td>\n      <td>1.502981e+04</td>\n      <td>2.389325e+04</td>\n      <td>0.0</td>\n      <td>1.315588e+04</td>\n      <td>3.475724e+03</td>\n    </tr>\n    <tr>\n      <th>std</th>\n      <td>2.803790e+08</td>\n      <td>1.105759e+06</td>\n      <td>7301.461953</td>\n      <td>7.114677e+04</td>\n      <td>8.358302e+04</td>\n      <td>0.0</td>\n      <td>5.854551e+04</td>\n      <td>3.884344e+04</td>\n    </tr>\n    <tr>\n      <th>min</th>\n      <td>4.026690e+05</td>\n      <td>0.000000e+00</td>\n      <td>0.000000</td>\n      <td>0.000000e+00</td>\n      <td>0.000000e+00</td>\n      <td>0.0</td>\n      <td>0.000000e+00</td>\n      <td>0.000000e+00</td>\n    </tr>\n    <tr>\n      <th>25%</th>\n      <td>2.853171e+08</td>\n      <td>5.300000e+01</td>\n      <td>0.000000</td>\n      <td>0.000000e+00</td>\n      <td>3.000000e+00</td>\n      <td>0.0</td>\n      <td>0.000000e+00</td>\n      <td>0.000000e+00</td>\n    </tr>\n    <tr>\n      <th>50%</th>\n      <td>4.983964e+08</td>\n      <td>5.822500e+03</td>\n      <td>42.000000</td>\n      <td>5.000000e+01</td>\n      <td>3.470000e+02</td>\n      <td>0.0</td>\n      <td>1.445000e+02</td>\n      <td>2.600000e+01</td>\n    </tr>\n    <tr>\n      <th>75%</th>\n      <td>7.109981e+08</td>\n      <td>1.499690e+05</td>\n      <td>442.250000</td>\n      <td>3.584000e+03</td>\n      <td>1.196200e+04</td>\n      <td>0.0</td>\n      <td>5.171250e+03</td>\n      <td>7.000000e+02</td>\n    </tr>\n    <tr>\n      <th>max</th>\n      <td>9.684996e+08</td>\n      <td>1.848762e+07</td>\n      <td>242911.000000</td>\n      <td>1.431774e+06</td>\n      <td>1.505144e+06</td>\n      <td>0.0</td>\n      <td>1.008362e+06</td>\n      <td>1.282043e+06</td>\n    </tr>\n  </tbody>\n</table>\n</div>"
     },
     "execution_count": 18,
     "metadata": {},
     "output_type": "execute_result"
    }
   ],
   "source": [
    "vresult.describe()"
   ],
   "metadata": {
    "collapsed": false,
    "pycharm": {
     "name": "#%%\n"
    }
   }
  },
  {
   "cell_type": "code",
   "execution_count": 21,
   "outputs": [
    {
     "data": {
      "text/plain": "                 bvid      uid                         vname      area  \\\naid                                                                      \n402669   BV1mx411F7R1   247710      【K】【痛并渴痛】 好痛好痛啊mi→sa↗ki↘   MAD·AMV   \n810872   BV1Js411o76u   888465         【炮姐/AMV】我永远都会守护在你的身边！   MAD·AMV   \n1687843  BV1Yx411P7Nz   514411      【火影】而我已经分不清,你是友情,还是错过的爱情   MAD·AMV   \n4372849  BV1Ss411z7m5  7760828         这个动画你可能看过，但是你看过全集吗？？？  短片·手书·配音   \n4801614  BV18s411i7sx  7105072  【漩涡鸣人】第一期：盘点《血狱》中最想上漩涡鸣人十大镜头        综合   \n\n                   cre_time  \naid                          \n402669  2017-06-14 10:43:19  \n810872  2017-06-14 15:26:50  \n1687843 2017-06-14 07:12:41  \n4372849 2017-06-14 16:51:46  \n4801614 2017-06-14 16:45:55  ",
      "text/html": "<div>\n<style scoped>\n    .dataframe tbody tr th:only-of-type {\n        vertical-align: middle;\n    }\n\n    .dataframe tbody tr th {\n        vertical-align: top;\n    }\n\n    .dataframe thead th {\n        text-align: right;\n    }\n</style>\n<table border=\"1\" class=\"dataframe\">\n  <thead>\n    <tr style=\"text-align: right;\">\n      <th></th>\n      <th>bvid</th>\n      <th>uid</th>\n      <th>vname</th>\n      <th>area</th>\n      <th>cre_time</th>\n    </tr>\n    <tr>\n      <th>aid</th>\n      <th></th>\n      <th></th>\n      <th></th>\n      <th></th>\n      <th></th>\n    </tr>\n  </thead>\n  <tbody>\n    <tr>\n      <th>402669</th>\n      <td>BV1mx411F7R1</td>\n      <td>247710</td>\n      <td>【K】【痛并渴痛】 好痛好痛啊mi→sa↗ki↘</td>\n      <td>MAD·AMV</td>\n      <td>2017-06-14 10:43:19</td>\n    </tr>\n    <tr>\n      <th>810872</th>\n      <td>BV1Js411o76u</td>\n      <td>888465</td>\n      <td>【炮姐/AMV】我永远都会守护在你的身边！</td>\n      <td>MAD·AMV</td>\n      <td>2017-06-14 15:26:50</td>\n    </tr>\n    <tr>\n      <th>1687843</th>\n      <td>BV1Yx411P7Nz</td>\n      <td>514411</td>\n      <td>【火影】而我已经分不清,你是友情,还是错过的爱情</td>\n      <td>MAD·AMV</td>\n      <td>2017-06-14 07:12:41</td>\n    </tr>\n    <tr>\n      <th>4372849</th>\n      <td>BV1Ss411z7m5</td>\n      <td>7760828</td>\n      <td>这个动画你可能看过，但是你看过全集吗？？？</td>\n      <td>短片·手书·配音</td>\n      <td>2017-06-14 16:51:46</td>\n    </tr>\n    <tr>\n      <th>4801614</th>\n      <td>BV18s411i7sx</td>\n      <td>7105072</td>\n      <td>【漩涡鸣人】第一期：盘点《血狱》中最想上漩涡鸣人十大镜头</td>\n      <td>综合</td>\n      <td>2017-06-14 16:45:55</td>\n    </tr>\n  </tbody>\n</table>\n</div>"
     },
     "execution_count": 21,
     "metadata": {},
     "output_type": "execute_result"
    }
   ],
   "source": [
    "vinfo.head()\n"
   ],
   "metadata": {
    "collapsed": false,
    "pycharm": {
     "name": "#%%\n"
    }
   }
  }
 ],
 "metadata": {
  "kernelspec": {
   "display_name": "Python 3",
   "language": "python",
   "name": "python3"
  },
  "language_info": {
   "codemirror_mode": {
    "name": "ipython",
    "version": 3
   },
   "file_extension": ".py",
   "mimetype": "text/x-python",
   "name": "python",
   "nbconvert_exporter": "python",
   "pygments_lexer": "ipython3",
   "version": "3.7.3"
  }
 },
 "nbformat": 4,
 "nbformat_minor": 1
}